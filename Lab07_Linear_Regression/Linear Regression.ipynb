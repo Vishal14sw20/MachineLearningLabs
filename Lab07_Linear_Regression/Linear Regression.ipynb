{
 "cells": [
  {
   "cell_type": "markdown",
   "metadata": {},
   "source": [
    "# Linear Regression\n",
    "\n",
    "In this tutorial we will implement a linear regression model. We will also implement a function that splits the available data into a training and a testting part.\n",
    "\n",
    "## Problem Setting\n",
    "\n",
    "We will use the Boston Housing Dataset. This dataset contains information collected by the U.S Census Service concerning housing in the city of Boston in the state of Massachusetts in 1978. Our goal is to predict the median value of the houses in a particular town in the city of Boston given its attributes. Check the file ’housing.names’ for more information on the attributes."
   ]
  },
  {
   "cell_type": "code",
   "execution_count": 1,
   "metadata": {
    "scrolled": true
   },
   "outputs": [],
   "source": [
    "import urllib\n",
    "import pandas as pd\n",
    "import numpy as np\n",
    "import random\n",
    "# for auto-reloading external modules\n",
    "# see http://stackoverflow.com/questions/1907993/autoreload-of-modules-in-ipython\n",
    "%load_ext autoreload\n",
    "%autoreload 2\n",
    "\n",
    "from sklearn.datasets import load_boston\n",
    "boston=load_boston()\n",
    "#testfile = urllib.URLopener() # for newer versions try to use urllib.request.URLopener()\n",
    "testfile=urllib.request.URLopener()\n",
    "testfile.retrieve(\"https://archive.ics.uci.edu/ml/machine-learning-databases/housing/housing.names\", \"housing.names\")\n",
    "df=pd.DataFrame(boston.data)\n",
    "df.columns=['crime_rate','res_land_zoned','industry','charles_river','nox','avg_num_rooms','prop_bf_1940','dst_emply_center','rd_highway_idx','tax_rate','stdnt_tchr_ratio','prop_blacks','low_status_pct']\n",
    "X=boston.data\n",
    "y=boston.target"
   ]
  },
  {
   "cell_type": "code",
   "execution_count": 2,
   "metadata": {},
   "outputs": [
    {
     "name": "stdout",
     "output_type": "stream",
     "text": [
      "<class 'pandas.core.frame.DataFrame'>\n",
      "RangeIndex: 506 entries, 0 to 505\n",
      "Data columns (total 13 columns):\n",
      "crime_rate          506 non-null float64\n",
      "res_land_zoned      506 non-null float64\n",
      "industry            506 non-null float64\n",
      "charles_river       506 non-null float64\n",
      "nox                 506 non-null float64\n",
      "avg_num_rooms       506 non-null float64\n",
      "prop_bf_1940        506 non-null float64\n",
      "dst_emply_center    506 non-null float64\n",
      "rd_highway_idx      506 non-null float64\n",
      "tax_rate            506 non-null float64\n",
      "stdnt_tchr_ratio    506 non-null float64\n",
      "prop_blacks         506 non-null float64\n",
      "low_status_pct      506 non-null float64\n",
      "dtypes: float64(13)\n",
      "memory usage: 51.5 KB\n"
     ]
    }
   ],
   "source": [
    "df.head(10)\n",
    "df.info()"
   ]
  },
  {
   "cell_type": "markdown",
   "metadata": {},
   "source": [
    "### Exercise 1\n",
    "\n",
    "Write the *split_train_test(X,y,split,seed)*, given an instance matrix $X \\in \\mathbb{R}^{N \\times D}$, labels $y \\in Y^N$, a split ratio in $[0, 1]$ and a random seed $\\in \\mathbb{Z}$. Split the dataset in $(split×100)\\%$ of the instances for training our model and the rest for testing, i.e. \n",
    "\n",
    "$$ \\left|X_{\\text{train}}\\right| = \\lceil \\text{split} \\cdot N \\rceil, \\qquad |X_{\\text{train}}| + |X_{\\text{test}}| = N. $$\n",
    "Make sure you use the given random number generator seed so we all get the same results. The function is supposed to return:\n",
    "\n",
    "- X_train, y_train: the training instances and labels;\n",
    "- X_test, y_test: the test instances and labels,\n",
    "\n",
    "in the same order as was mentioned.\n",
    "\n",
    "Hint: It may be helpful to use shuffling functionality (e.g. np.random.shuffle)."
   ]
  },
  {
   "cell_type": "code",
   "execution_count": 3,
   "metadata": {},
   "outputs": [],
   "source": [
    "def split_train_test(X,y,split,seed):\n",
    "    #INSERT CODE HERE#\n",
    "    np.random.seed(seed)\n",
    "    indices =np.arange(y.size)\n",
    "    np.random.shuffle(indices)\n",
    "    split_size=int(split*y.size)\n",
    "    train_index = indices[:split_size]\n",
    "    test_index  = indices[split_size:]\n",
    "\n",
    "    X_train = X[train_index]\n",
    "    y_train = y[train_index]\n",
    "    X_test = X[test_index]\n",
    "    y_test = y[test_index]\n",
    "\n",
    "    ##################\n",
    "    return  X_train, y_train, X_test, y_test\n",
    "\n",
    "    ##################\n",
    "    return None # X_train, y_train, X_test, y_test\n",
    "#split_train_test(X,y,0.7,7)"
   ]
  },
  {
   "cell_type": "markdown",
   "metadata": {},
   "source": [
    "### Exercise 2\n",
    "\n",
    "Write the function *train_linear_reg(X_train,y_train,lmbd)*.\n",
    "Implement the ridge regression model (slide 24). The function should output the learned weight vector $\\theta \\in \\mathbb{R}^D$ or $\\mathbb{R}^{D+1}$ (depending on whether you are adding *bias*)."
   ]
  },
  {
   "cell_type": "code",
   "execution_count": 4,
   "metadata": {},
   "outputs": [
    {
     "data": {
      "text/plain": "array([-9.35585721e-02,  4.87474981e-02,  2.54716354e-03,  2.77921454e+00,\n       -4.13318205e+00,  5.98306450e+00, -5.73774422e-03, -9.80114073e-01,\n        1.70493664e-01, -9.13801262e-03, -3.91669004e-01,  1.50608376e-02,\n       -4.11407748e-01])"
     },
     "execution_count": 4,
     "metadata": {},
     "output_type": "execute_result"
    }
   ],
   "source": [
    "def train_linear_reg(X, y, lmbd):\n",
    "    ##################\n",
    "    one=np.matmul(X.transpose(),X)\n",
    "    two=one+lmbd\n",
    "    three=np.linalg.inv(two)\n",
    "\n",
    "    four = np.matmul(X.transpose(),y)\n",
    "    theta = np.matmul(three,four)\n",
    "\n",
    "    ##################\n",
    "    return theta\n",
    "train_linear_reg(X,y,1)"
   ]
  },
  {
   "cell_type": "markdown",
   "metadata": {},
   "source": [
    "### Exercise 3\n",
    "\n",
    "Write the function *predict(X,theta)* which predicts housing values vector pred for a dataset X and a previously trained parameter vector $\\theta$."
   ]
  },
  {
   "cell_type": "code",
   "execution_count": 5,
   "metadata": {},
   "outputs": [],
   "source": [
    "def predict(X, theta):\n",
    "    y_pred=np.matmul(X,theta)\n",
    "    ##################\n",
    "    return y_pred"
   ]
  },
  {
   "cell_type": "markdown",
   "metadata": {},
   "source": [
    "### Exercise 4\n",
    "\n",
    "Write the function *mean_abs_loss(y_true,y_pred)* which computes the mean of the absolute differences between our prediction vector $y\\_pred$ and the real housing values $y\\_true$."
   ]
  },
  {
   "cell_type": "code",
   "execution_count": 6,
   "metadata": {},
   "outputs": [],
   "source": [
    "def mean_abs_loss(y_true,y_pred):\n",
    "    ##################\n",
    "    #INSERT CODE HERE#\n",
    "    mal = np.mean(np.absolute(y_true-y_pred))\n",
    "\n",
    "    ##################\n",
    "    return mal"
   ]
  },
  {
   "cell_type": "markdown",
   "metadata": {},
   "source": [
    "### Exercise 5\n",
    "\n",
    "Evaluate your solutions by running the following code. \n",
    "\n",
    "Moreover, answer the following questions: What is the most important feature in your model? Are there features that are not so important? What happens if you remove them? Are there outliers with a high absolute loss?"
   ]
  },
  {
   "cell_type": "code",
   "execution_count": 8,
   "metadata": {},
   "outputs": [
    {
     "name": "stdout",
     "output_type": "stream",
     "text": [
      "The mean absolute loss is 3.406\n"
     ]
    }
   ],
   "source": [
    "seed = 3\n",
    "lmbd=1\n",
    "split=0.7\n",
    "X_train,y_train,X_test,y_test=split_train_test(X,y,split,seed)\n",
    "theta=train_linear_reg(X_train,y_train,lmbd)\n",
    "y_pred=predict(X_test,theta)\n",
    "mae=mean_abs_loss(y_test,y_pred)\n",
    "print ('The mean absolute loss is {loss:0.3f}'.format(loss=mae))"
   ]
  }
 ],
 "metadata": {
  "kernelspec": {
   "display_name": "Python 3",
   "language": "python",
   "name": "python3"
  },
  "language_info": {
   "codemirror_mode": {
    "name": "ipython",
    "version": 3
   },
   "file_extension": ".py",
   "mimetype": "text/x-python",
   "name": "python",
   "nbconvert_exporter": "python",
   "pygments_lexer": "ipython3",
   "version": "3.6.9"
  }
 },
 "nbformat": 4,
 "nbformat_minor": 1
}