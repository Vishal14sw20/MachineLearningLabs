{
 "cells": [
  {
   "cell_type": "markdown",
   "metadata": {},
   "source": [
    "# Linear Classification\n",
    "\n",
    "In this lab you will implement parts of a linear classification model using the regularized empirical risk minimization principle. By completing this lab and analysing the code, you gain deeper understanding of these type of models, and of gradient descent.\n",
    "\n",
    "\n",
    "## Problem Setting\n",
    "\n",
    "The dataset describes diagnosing of cardiac Single Proton Emission Computed Tomography (SPECT) images. Each of the patients is classified into two categories: normal (1) and abnormal (0). The training data contains 80 SPECT images from which 22 binary features have been extracted. The goal is to predict the label for an unseen test set of 187 tomography images."
   ]
  },
  {
   "cell_type": "code",
   "execution_count": 11,
   "metadata": {
    "scrolled": true
   },
   "outputs": [
    {
     "name": "stdout",
     "output_type": "stream",
     "text": [
      "The autoreload extension is already loaded. To reload it, use:\n",
      "  %reload_ext autoreload\n"
     ]
    },
    {
     "name": "stderr",
     "output_type": "stream",
     "text": [
      "/usr/local/lib/python3.6/dist-packages/ipykernel_launcher.py:20: FutureWarning: Method .as_matrix will be removed in a future version. Use .values instead.\n",
      "/usr/local/lib/python3.6/dist-packages/ipykernel_launcher.py:21: FutureWarning: Method .as_matrix will be removed in a future version. Use .values instead.\n"
     ]
    }
   ],
   "source": [
    "import urllib\n",
    "import pandas as pd\n",
    "import numpy as np\n",
    "from sklearn.ensemble import RandomForestClassifier\n",
    "from sklearn.ensemble import RandomForestRegressor\n",
    "import seaborn as sns\n",
    "import matplotlib.pyplot as plt\n",
    "# for auto-reloading external modules\n",
    "# see http://stackoverflow.com/questions/1907993/autoreload-of-modules-in-ipython\n",
    "%load_ext autoreload\n",
    "%autoreload 2\n",
    "\n",
    "testfile = urllib.request.URLopener()\n",
    "testfile.retrieve(\"http://archive.ics.uci.edu/ml/machine-learning-databases/spect/SPECT.train\", \"SPECT.train\")\n",
    "testfile.retrieve(\"http://archive.ics.uci.edu/ml/machine-learning-databases/spect/SPECT.test\", \"SPECT.test\")\n",
    "\n",
    "df_train = pd.read_csv('SPECT.train',header=None)\n",
    "df_test = pd.read_csv('SPECT.test',header=None)\n",
    "\n",
    "train = df_train.as_matrix()\n",
    "test = df_test.as_matrix()\n",
    "\n",
    "y_train = train[:,0]\n",
    "X_train = train[:,1:]\n",
    "y_test = test[:,0]\n",
    "X_test = test[:,1:]"
   ]
  },
  {
   "cell_type": "markdown",
   "metadata": {},
   "source": [
    "### Exercise 1\n",
    "\n",
    "Analyze the function learn_reg_ERM(X,y,lambda) which for a given $n\\times m$ data matrix $\\textbf{X}$ and binary class label $\\textbf{y}$ learns and returns a linear model $\\textbf{w}$.\n",
    "The binary class label has to be transformed so that its range is $\\left \\{-1,1 \\right \\}$. \n",
    "The trade-off parameter between the empirical loss and the regularizer is given by $\\lambda > 0$. \n",
    "Try to understand each step of the learning algorithm and comment each line."
   ]
  },
  {
   "cell_type": "code",
   "execution_count": 12,
   "metadata": {},
   "outputs": [],
   "source": [
    "def learn_reg_ERM(X,y,lbda):\n",
    "    # its number of epochs\n",
    "    max_iter = 200\n",
    "    # error\n",
    "    e  = 0.001\n",
    "    \n",
    "    alpha = 1.\n",
    "    # intial weight\n",
    "    w = np.random.randn(X.shape[1]);\n",
    "    for k in np.arange(max_iter):\n",
    "        # y predicted \n",
    "        h = np.dot(X,w)\n",
    "        # loss and its gradient \n",
    "        l,lg = loss(h, y)\n",
    "        print ('loss: {}'.format(np.mean(l)))\n",
    "        # regualizer and its gradient\n",
    "        r,rg = reg(w, lbda)\n",
    "        # overall gradient of loss function\n",
    "        g = np.dot(X.T,lg) + rg \n",
    "        if (k > 0):\n",
    "            alpha = alpha * (np.dot(g_old.T,g_old))/(np.dot((g_old - g).T,g_old))\n",
    "        # upadting parameter\n",
    "        w = w - alpha * g\n",
    "        if (np.linalg.norm(alpha * g) < e):\n",
    "            break\n",
    "        g_old = g\n",
    "    return w"
   ]
  },
  {
   "cell_type": "markdown",
   "metadata": {},
   "source": [
    "### Exercise 2\n",
    "\n",
    "Fill in the code for the function loss(h,y) which computes the hinge loss and its gradient. \n",
    "This function takes a given vector $\\textbf{y}$ with the true labels $\\in \\left \\{-1,1\\right \\}$ and a vector $\\textbf{h}$ with the function values of the linear model as inputs. The function returns a vector $\\textbf{l}$ with the hinge loss $\\max(0, 1 − y_{i} h_{i})$ and a vector $\\textbf{g}$ with the gradients of the hinge loss at the points $h_i$. The partial derivative of the hinge loss $h_i$ with respect to the $i$-th position of the weight vector $\\textbf{w}$ is $g_{i} = −y x_{i}$ if $l_{i} > 0$, else $g_{i} = 0$)."
   ]
  },
  {
   "cell_type": "code",
   "execution_count": 13,
   "metadata": {},
   "outputs": [
    {
     "data": {
      "text/plain": "(array([0, 5, 4, 0, 0]), array([ 0, -4,  3,  0,  0]))"
     },
     "execution_count": 13,
     "metadata": {},
     "output_type": "execute_result"
    }
   ],
   "source": [
    "def loss(h, y):\n",
    "\n",
    "    ##################\n",
    "    l=np.maximum(0,1-h*y)\n",
    "    g=np.where(l>0,-y,0)\n",
    "    ##################\n",
    "    return l, g\n",
    "\n",
    "h =np.array([1,-1,1,1,-1])\n",
    "y =np.array([6,4,-3,1,-1])\n",
    "loss(h,y)"
   ]
  },
  {
   "cell_type": "markdown",
   "metadata": {},
   "source": [
    "### Exercise 3\n",
    "\n",
    "Fill in the code for the function reg(w,lambda) which computes the $\\mathcal{L}_2$-regularizer and the gradient of the regularizer function at point $\\textbf{w}$. \n",
    "\n",
    "\n",
    "$$r = \\frac{\\lambda}{2} \\textbf{w}^{T}\\textbf{w}$$\n",
    "\n",
    "$$g = \\lambda \\textbf{w}$$"
   ]
  },
  {
   "cell_type": "code",
   "execution_count": 14,
   "metadata": {},
   "outputs": [],
   "source": [
    "def reg(w, lbda):\n",
    "    ##################\n",
    "    #INSERT CODE HERE#\n",
    "    r = (lbda/2) * np.matmul(w.transpose(),w)\n",
    "    g= lbda * w\n",
    "    ##################\n",
    "    return r, g"
   ]
  },
  {
   "cell_type": "markdown",
   "metadata": {},
   "source": [
    "### Exercise 4\n",
    "\n",
    "Fill in the code for the function predict(w,x) which predicts the class label $y$ for a data point $\\textbf{x}$ or a matrix $X$ of data points (row-wise) for a previously trained linear model $\\textbf{w}$. If there is only a data point given, the function is supposed to return a scalar value. If a matrix is given a vector of predictions is supposed to be returned."
   ]
  },
  {
   "cell_type": "code",
   "execution_count": 15,
   "metadata": {},
   "outputs": [],
   "source": [
    "def predict(w, X):\n",
    "    ##################\n",
    "    #INSERT CODE HERE#\n",
    "    preds = np.matmul(X, w)\n",
    "    preds = np.where(preds>0,1,-1)\n",
    "    ##################\n",
    "    return preds"
   ]
  },
  {
   "cell_type": "markdown",
   "metadata": {},
   "source": [
    "### Exercise 5\n",
    "\n",
    "#### 5.1 \n",
    "Train a linear model on the training data and classify all 187 test instances afterwards using the function predict. \n",
    "Please note that the given class labels are in the range $\\left \\{0,1 \\right \\}$, however the learning algorithm expects a label in the range of $\\left \\{-1,1 \\right \\}$. Then, compute the accuracy of your trained linear model on both the training and the test data. "
   ]
  },
  {
   "cell_type": "code",
   "execution_count": 16,
   "metadata": {},
   "outputs": [
    {
     "name": "stdout",
     "output_type": "stream",
     "text": [
      "loss: 0.9663431098102191\n",
      "loss: 4.368355778190785\n",
      "loss: 0.8945410872978204\n",
      "loss: 1.6771505083279095\n",
      "loss: 1.0407650813456215\n",
      "loss: 0.9373972489097412\n",
      "loss: 0.721905664550855\n",
      "loss: 0.7055699312116649\n",
      "loss: 0.7197878971557966\n",
      "loss: 0.6945828376389477\n",
      "loss: 0.693573265860242\n",
      "loss: 0.697206488334946\n",
      "loss: 0.6945733934097525\n",
      "loss: 0.8275000000000002\n",
      "loss: 0.7419036432141543\n",
      "loss: 0.706252352587921\n",
      "loss: 0.6925035499995941\n",
      "loss: 0.6927491081726854\n",
      "loss: 0.6937315718727867\n",
      "loss: 0.696217954205944\n",
      "loss: 0.693112125712897\n",
      "loss: 0.6928838831724017\n",
      "loss: 0.6928364442809861\n",
      "loss: 0.6924806044755549\n",
      "loss: 0.6924766690268989\n",
      "loss: 0.6926576770410711\n",
      "loss: 0.6925569497039239\n",
      "loss: 0.7150000000000005\n",
      "loss: 0.7028597629419371\n",
      "loss: 0.6939768141826239\n",
      "loss: 0.6922979331867298\n",
      "loss: 0.6941723695896995\n",
      "loss: 0.6926431415828992\n",
      "loss: 0.6924958038339405\n",
      "loss: 0.6923950637254697\n",
      "loss: 0.6923487515718026\n",
      "loss: 0.6923005948121851\n",
      "loss: 0.6923327990564394\n",
      "loss: 0.6924393648332752\n",
      "loss: 0.6923131929342794\n",
      "loss: 0.6923200483861403\n",
      "loss: 0.6923412424949729\n",
      "loss: 0.6923181362711667\n",
      "0.7125\n",
      "0.8823529411764706\n"
     ]
    }
   ],
   "source": [
    "##################\n",
    "#INSERT CODE HERE#\n",
    "def changeLabels(y_train,y_test):\n",
    "    y_train[y_train == 0] = -1\n",
    "    y_test[y_test == 0] = -1\n",
    "    return y_train, y_test\n",
    "\n",
    "def accuracy(y_actual,y_predicted):\n",
    "    sum =(y_actual==y_predicted).sum()\n",
    "    acc = sum/y_actual.shape[0]\n",
    "    return acc\n",
    "y_train, y_test= changeLabels(y_train,y_test)\n",
    "w=learn_reg_ERM(X_train,y_train,5)\n",
    "y_test_predicted = predict(w,X_test)\n",
    "y_train_predicted = predict(w,X_train)\n",
    "test_acc = accuracy(y_test,y_test_predicted)\n",
    "train_acc = accuracy(y_train,y_train_predicted)\n",
    "print(train_acc)\n",
    "print(test_acc)\n",
    "##################"
   ]
  },
  {
   "cell_type": "markdown",
   "metadata": {},
   "source": [
    "#### 5.2\n",
    "Compare the accuracy of the linear model with the accuracy of a random forest and a decision tree on the training and test data set."
   ]
  },
  {
   "cell_type": "code",
   "execution_count": 17,
   "metadata": {},
   "outputs": [
    {
     "name": "stdout",
     "output_type": "stream",
     "text": [
      "0.7700534759358288\n"
     ]
    }
   ],
   "source": [
    "##################\n",
    "#INSERT CODE HERE#\n",
    "clf = RandomForestClassifier()\n",
    "clf.fit(X_train,y_train)\n",
    "print(clf.score(X_test,y_test))\n",
    "##################"
   ]
  },
  {
   "cell_type": "code",
   "execution_count": 18,
   "metadata": {},
   "outputs": [
    {
     "data": {
      "text/plain": "0.6149732620320856"
     },
     "execution_count": 18,
     "metadata": {},
     "output_type": "execute_result"
    }
   ],
   "source": [
    "from sklearn.tree import DecisionTreeClassifier\n",
    "\n",
    "clf_tree = DecisionTreeClassifier(criterion='entropy', max_depth=1)\n",
    "clf_tree.fit(X_train, y_train)\n",
    "clf_tree.score(X_test,y_test)"
   ]
  }
 ],
 "metadata": {
  "kernelspec": {
   "display_name": "Python 3",
   "language": "python",
   "name": "python3"
  },
  "language_info": {
   "codemirror_mode": {
    "name": "ipython",
    "version": 3
   },
   "file_extension": ".py",
   "mimetype": "text/x-python",
   "name": "python",
   "nbconvert_exporter": "python",
   "pygments_lexer": "ipython3",
   "version": "3.6.9"
  }
 },
 "nbformat": 4,
 "nbformat_minor": 1
}